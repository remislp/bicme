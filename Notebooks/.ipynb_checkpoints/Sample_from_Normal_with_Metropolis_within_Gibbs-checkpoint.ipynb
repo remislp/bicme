{
 "cells": [
  {
   "cell_type": "code",
   "execution_count": 1,
   "metadata": {
    "collapsed": true
   },
   "outputs": [],
   "source": [
    "%matplotlib inline\n",
    "import matplotlib.pyplot as plt"
   ]
  },
  {
   "cell_type": "code",
   "execution_count": 2,
   "metadata": {
    "collapsed": true
   },
   "outputs": [],
   "source": [
    "import numpy as np\n",
    "import scipy.io as sio"
   ]
  },
  {
   "cell_type": "code",
   "execution_count": 3,
   "metadata": {
    "collapsed": true
   },
   "outputs": [],
   "source": [
    "from bicme.tests.case_normal import CaseNormal\n",
    "from bicme.samplers import MWGSampler\n",
    "from bicme.samplers import RosenthalAdaptiveSampler\n",
    "from bicme.proposals import RWMHProposal\n",
    "from bicme.display import quick_display"
   ]
  },
  {
   "cell_type": "code",
   "execution_count": 4,
   "metadata": {
    "collapsed": false
   },
   "outputs": [],
   "source": [
    "mat1 = sio.loadmat('../Tests/Data/NormData.mat')\n",
    "data = np.array(mat1['data']).flatten()\n",
    "np.random.seed(1)\n",
    "cn = CaseNormal(data)"
   ]
  },
  {
   "cell_type": "markdown",
   "metadata": {},
   "source": [
    "##### Run: sampler- Metropolis_within_Gibbs sampler with scaling during burn-in; proposal-  random-walk Metropoli-Hastings."
   ]
  },
  {
   "cell_type": "code",
   "execution_count": 5,
   "metadata": {
    "collapsed": false,
    "scrolled": false
   },
   "outputs": [
    {
     "name": "stdout",
     "output_type": "stream",
     "text": [
      "Sampler initialised...\n",
      "Iteration 50; Acceptance: 0.400000; Scale factor 1.000000: not changed\n",
      "Iteration 100; Acceptance: 0.000000; Scale factor 0.500000: decreased\n",
      "Iteration 150; Acceptance: 0.000000; Scale factor 0.250000: decreased\n",
      "Iteration 200; Acceptance: 0.000000; Scale factor 0.125000: decreased\n",
      "Iteration 250; Acceptance: 0.000000; Scale factor 0.062500: decreased\n",
      "Iteration 300; Acceptance: 0.000000; Scale factor 0.031250: decreased\n",
      "Iteration 350; Acceptance: 0.000000; Scale factor 0.015625: decreased\n",
      "Iteration 400; Acceptance: 0.000000; Scale factor 0.007812: decreased\n",
      "Iteration 450; Acceptance: 0.000000; Scale factor 0.003906: decreased\n",
      "Iteration 500; Acceptance: 0.000000; Scale factor 0.001953: decreased\n",
      "Iteration 550; Acceptance: 0.000000; Scale factor 0.000977: decreased\n",
      "Iteration 600; Acceptance: 0.000000; Scale factor 0.000488: decreased\n",
      "Iteration 650; Acceptance: 0.000000; Scale factor 0.000244: decreased\n",
      "Iteration 700; Acceptance: 0.000000; Scale factor 0.000122: decreased\n",
      "Iteration 750; Acceptance: 0.000000; Scale factor 0.000061: decreased\n",
      "Iteration 800; Acceptance: 0.000000; Scale factor 0.000031: decreased\n",
      "Iteration 850; Acceptance: 0.000000; Scale factor 0.000015: decreased\n",
      "Iteration 900; Acceptance: 0.000000; Scale factor 0.000008: decreased\n",
      "Iteration 950; Acceptance: 0.000000; Scale factor 0.000004: decreased\n",
      "Iteration 1000; Acceptance: 0.000000; Scale factor 0.000002: decreased\n",
      "10.0 %\n",
      "Iteration 1050; Acceptance: 0.000000; Scale factor 0.000001: decreased\n",
      "Iteration 1100; Acceptance: 0.000000; Scale factor 0.000000: decreased\n",
      "Iteration 1150; Acceptance: 0.000000; Scale factor 0.000000: decreased\n",
      "Iteration 1200; Acceptance: 0.000000; Scale factor 0.000000: decreased\n",
      "Iteration 1250; Acceptance: 0.000000; Scale factor 0.000000: decreased\n",
      "Iteration 1300; Acceptance: 0.000000; Scale factor 0.000000: decreased\n",
      "Iteration 1350; Acceptance: 0.000000; Scale factor 0.000000: decreased\n",
      "Iteration 1400; Acceptance: 0.000000; Scale factor 0.000000: decreased\n",
      "Iteration 1450; Acceptance: 0.000000; Scale factor 0.000000: decreased\n",
      "Iteration 1500; Acceptance: 0.000000; Scale factor 0.000000: decreased\n",
      "Iteration 1550; Acceptance: 0.000000; Scale factor 0.000000: decreased\n",
      "Iteration 1600; Acceptance: 0.000000; Scale factor 0.000000: decreased\n",
      "Iteration 1650; Acceptance: 0.000000; Scale factor 0.000000: decreased\n",
      "Iteration 1700; Acceptance: 0.000000; Scale factor 0.000000: decreased\n",
      "Iteration 1750; Acceptance: 0.000000; Scale factor 0.000000: decreased\n",
      "Iteration 1800; Acceptance: 0.000000; Scale factor 0.000000: decreased\n",
      "Iteration 1850; Acceptance: 0.000000; Scale factor 0.000000: decreased\n",
      "Iteration 1900; Acceptance: 0.000000; Scale factor 0.000000: decreased\n",
      "Iteration 1950; Acceptance: 0.000000; Scale factor 0.000000: decreased\n",
      "Iteration 2000; Acceptance: 0.000000; Scale factor 0.000000: decreased\n",
      "20.0 %\n",
      "Iteration 2050; Acceptance: 0.000000; Scale factor 0.000000: decreased\n",
      "Iteration 2100; Acceptance: 0.000000; Scale factor 0.000000: decreased\n",
      "Iteration 2150; Acceptance: 0.000000; Scale factor 0.000000: decreased\n",
      "Iteration 2200; Acceptance: 0.000000; Scale factor 0.000000: decreased\n",
      "Iteration 2250; Acceptance: 0.000000; Scale factor 0.000000: decreased\n",
      "Iteration 2300; Acceptance: 0.000000; Scale factor 0.000000: decreased\n",
      "Iteration 2350; Acceptance: 0.000000; Scale factor 0.000000: decreased\n",
      "Iteration 2400; Acceptance: 0.000000; Scale factor 0.000000: decreased\n",
      "Iteration 2450; Acceptance: 0.000000; Scale factor 0.000000: decreased\n",
      "Iteration 2500; Acceptance: 0.000000; Scale factor 0.000000: decreased\n",
      "Iteration 2550; Acceptance: 0.000000; Scale factor 0.000000: decreased\n",
      "Iteration 2600; Acceptance: 0.000000; Scale factor 0.000000: decreased\n",
      "Iteration 2650; Acceptance: 0.000000; Scale factor 0.000000: decreased\n",
      "Iteration 2700; Acceptance: 0.000000; Scale factor 0.000000: decreased\n",
      "Iteration 2750; Acceptance: 0.000000; Scale factor 0.000000: decreased\n",
      "Iteration 2800; Acceptance: 0.000000; Scale factor 0.000000: decreased\n",
      "Iteration 2850; Acceptance: 0.000000; Scale factor 0.000000: decreased\n",
      "Iteration 2900; Acceptance: 0.000000; Scale factor 0.000000: decreased\n",
      "Iteration 2950; Acceptance: 0.000000; Scale factor 0.000000: decreased\n",
      "Iteration 3000; Acceptance: 0.000000; Scale factor 0.000000: decreased\n",
      "30.0 %\n",
      "Iteration 3050; Acceptance: 0.000000; Scale factor 0.000000: decreased\n",
      "Iteration 3100; Acceptance: 0.000000; Scale factor 0.000000: decreased\n",
      "Iteration 3150; Acceptance: 0.000000; Scale factor 0.000000: decreased\n",
      "Iteration 3200; Acceptance: 0.000000; Scale factor 0.000000: decreased\n",
      "Iteration 3250; Acceptance: 0.000000; Scale factor 0.000000: decreased\n",
      "Iteration 3300; Acceptance: 0.000000; Scale factor 0.000000: decreased\n",
      "Iteration 3350; Acceptance: 0.000000; Scale factor 0.000000: decreased\n",
      "Iteration 3400; Acceptance: 0.000000; Scale factor 0.000000: decreased\n",
      "Iteration 3450; Acceptance: 0.000000; Scale factor 0.000000: decreased\n",
      "Iteration 3500; Acceptance: 0.000000; Scale factor 0.000000: decreased\n",
      "Iteration 3550; Acceptance: 0.000000; Scale factor 0.000000: decreased\n",
      "Iteration 3600; Acceptance: 0.000000; Scale factor 0.000000: decreased\n",
      "Iteration 3650; Acceptance: 0.000000; Scale factor 0.000000: decreased\n",
      "Iteration 3700; Acceptance: 0.000000; Scale factor 0.000000: decreased\n",
      "Iteration 3750; Acceptance: 0.000000; Scale factor 0.000000: decreased\n",
      "Iteration 3800; Acceptance: 0.000000; Scale factor 0.000000: decreased\n",
      "Iteration 3850; Acceptance: 0.000000; Scale factor 0.000000: decreased\n",
      "Iteration 3900; Acceptance: 0.000000; Scale factor 0.000000: decreased\n",
      "Iteration 3950; Acceptance: 0.000000; Scale factor 0.000000: decreased\n",
      "Iteration 4000; Acceptance: 0.000000; Scale factor 0.000000: decreased\n",
      "40.0 %\n",
      "Iteration 4050; Acceptance: 0.000000; Scale factor 0.000000: decreased\n",
      "Iteration 4100; Acceptance: 0.000000; Scale factor 0.000000: decreased\n",
      "Iteration 4150; Acceptance: 0.000000; Scale factor 0.000000: decreased\n",
      "Iteration 4200; Acceptance: 0.000000; Scale factor 0.000000: decreased\n",
      "Iteration 4250; Acceptance: 0.000000; Scale factor 0.000000: decreased\n",
      "Iteration 4300; Acceptance: 0.000000; Scale factor 0.000000: decreased\n",
      "Iteration 4350; Acceptance: 0.000000; Scale factor 0.000000: decreased\n",
      "Iteration 4400; Acceptance: 0.000000; Scale factor 0.000000: decreased\n",
      "Iteration 4450; Acceptance: 0.000000; Scale factor 0.000000: decreased\n",
      "Iteration 4500; Acceptance: 0.000000; Scale factor 0.000000: decreased\n",
      "Iteration 4550; Acceptance: 0.000000; Scale factor 0.000000: decreased\n",
      "Iteration 4600; Acceptance: 0.000000; Scale factor 0.000000: decreased\n",
      "Iteration 4650; Acceptance: 0.000000; Scale factor 0.000000: decreased\n",
      "Iteration 4700; Acceptance: 0.000000; Scale factor 0.000000: decreased\n",
      "Iteration 4750; Acceptance: 0.000000; Scale factor 0.000000: decreased\n",
      "Iteration 4800; Acceptance: 0.000000; Scale factor 0.000000: decreased\n",
      "Iteration 4850; Acceptance: 0.000000; Scale factor 0.000000: decreased\n",
      "Iteration 4900; Acceptance: 0.000000; Scale factor 0.000000: decreased\n",
      "Iteration 4950; Acceptance: 0.000000; Scale factor 0.000000: decreased\n",
      "Iteration 5000; Acceptance: 0.000000; Scale factor 0.000000: decreased\n",
      "50.0 %\n",
      "60.0 %\n",
      "70.0 %\n",
      "80.0 %\n",
      "90.0 %\n",
      "100.0 %\n"
     ]
    }
   ],
   "source": [
    "X0 = [2, 10]\n",
    "# Initialise Proposer\n",
    "proposer = RWMHProposal(cn.logPosterior, verbose=True)\n",
    "# Initialise Sampler\n",
    "sampler = MWGSampler(samples_draw=10000, notify_every=1000, \n",
    "                     burnin_fraction=0.5, burnin_lag=50,\n",
    "                     model=cn.logPosterior, \n",
    "                     proposal=proposer.propose_block,\n",
    "                     verbose=True)  \n",
    "sampler.acceptance_limits = [0.3, 0.7]\n",
    "sampler.scale = 0.5\n",
    "# Sample\n",
    "np.random.seed(1)\n",
    "S = sampler.sample_block(X0)"
   ]
  },
  {
   "cell_type": "code",
   "execution_count": 6,
   "metadata": {
    "collapsed": false
   },
   "outputs": [
    {
     "name": "stdout",
     "output_type": "stream",
     "text": [
      "posteriors= [[-1125.99943572 -1126.51999339 -1126.51999339 ..., -1118.53661259\n",
      "  -1118.53661259 -1118.53661259]\n",
      " [    0.             0.             0.         ...,     0.             0.\n",
      "      0.        ]]\n",
      "max posterior =  -1118.18407299\n",
      "imax= 603\n",
      "MEP pars= [-0.25819417  9.77722456]\n"
     ]
    }
   ],
   "source": [
    "#print('acceptances= ', sampler.acceptances)\n",
    "#print('proposals= ', sampler.proposals)\n",
    "#print('samples= ', sampler.samples)\n",
    "print('posteriors=', S.posteriors)\n",
    "print('max posterior = ', max(S.posteriors[0]))\n",
    "imax = np.where(S.posteriors[0] == S.posteriors[0].max())[0][0]\n",
    "print('imax=', imax)\n",
    "print('MEP pars=', S.samples[:, imax])"
   ]
  },
  {
   "cell_type": "code",
   "execution_count": 7,
   "metadata": {
    "collapsed": false
   },
   "outputs": [
    {
     "ename": "TypeError",
     "evalue": "'Chain' object does not support indexing",
     "output_type": "error",
     "traceback": [
      "\u001b[1;31m---------------------------------------------------------------------------\u001b[0m",
      "\u001b[1;31mTypeError\u001b[0m                                 Traceback (most recent call last)",
      "\u001b[1;32m<ipython-input-7-aa5a22af6d45>\u001b[0m in \u001b[0;36m<module>\u001b[1;34m()\u001b[0m\n\u001b[1;32m----> 1\u001b[1;33m \u001b[0mquick_display\u001b[0m\u001b[1;33m(\u001b[0m\u001b[0mS\u001b[0m\u001b[1;33m,\u001b[0m \u001b[0mburnin\u001b[0m\u001b[1;33m=\u001b[0m\u001b[1;36m5000\u001b[0m\u001b[1;33m)\u001b[0m\u001b[1;33m\u001b[0m\u001b[0m\n\u001b[0m",
      "\u001b[1;32mC:\\bicme\\bicme\\display.py\u001b[0m in \u001b[0;36mquick_display\u001b[1;34m(S, burnin, labels)\u001b[0m\n\u001b[0;32m    139\u001b[0m     \"\"\"\n\u001b[0;32m    140\u001b[0m \u001b[1;33m\u001b[0m\u001b[0m\n\u001b[1;32m--> 141\u001b[1;33m     \u001b[0mimax\u001b[0m \u001b[1;33m=\u001b[0m \u001b[0mnp\u001b[0m\u001b[1;33m.\u001b[0m\u001b[0mwhere\u001b[0m\u001b[1;33m(\u001b[0m\u001b[0mS\u001b[0m\u001b[1;33m[\u001b[0m\u001b[1;33m-\u001b[0m\u001b[1;36m1\u001b[0m\u001b[1;33m]\u001b[0m \u001b[1;33m==\u001b[0m \u001b[0mS\u001b[0m\u001b[1;33m[\u001b[0m\u001b[1;33m-\u001b[0m\u001b[1;36m1\u001b[0m\u001b[1;33m]\u001b[0m\u001b[1;33m.\u001b[0m\u001b[0mmax\u001b[0m\u001b[1;33m(\u001b[0m\u001b[1;33m)\u001b[0m\u001b[1;33m)\u001b[0m\u001b[1;33m[\u001b[0m\u001b[1;36m0\u001b[0m\u001b[1;33m]\u001b[0m\u001b[1;33m[\u001b[0m\u001b[1;36m0\u001b[0m\u001b[1;33m]\u001b[0m\u001b[1;33m\u001b[0m\u001b[0m\n\u001b[0m\u001b[0;32m    142\u001b[0m     \u001b[0mcount\u001b[0m \u001b[1;33m=\u001b[0m \u001b[1;36m1\u001b[0m\u001b[1;33m\u001b[0m\u001b[0m\n\u001b[0;32m    143\u001b[0m     \u001b[0mr\u001b[0m \u001b[1;33m=\u001b[0m \u001b[0mlen\u001b[0m\u001b[1;33m(\u001b[0m\u001b[0mS\u001b[0m\u001b[1;33m)\u001b[0m\u001b[1;33m\u001b[0m\u001b[0m\n",
      "\u001b[1;31mTypeError\u001b[0m: 'Chain' object does not support indexing"
     ]
    }
   ],
   "source": [
    "#quick_display(S, burnin=5000)"
   ]
  }
 ],
 "metadata": {
  "anaconda-cloud": {},
  "kernelspec": {
   "display_name": "Python [Root]",
   "language": "python",
   "name": "Python [Root]"
  },
  "language_info": {
   "codemirror_mode": {
    "name": "ipython",
    "version": 3
   },
   "file_extension": ".py",
   "mimetype": "text/x-python",
   "name": "python",
   "nbconvert_exporter": "python",
   "pygments_lexer": "ipython3",
   "version": "3.5.1"
  }
 },
 "nbformat": 4,
 "nbformat_minor": 0
}
