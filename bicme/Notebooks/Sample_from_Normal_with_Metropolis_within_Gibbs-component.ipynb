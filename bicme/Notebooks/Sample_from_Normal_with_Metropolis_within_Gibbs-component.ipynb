{
 "cells": [
  {
   "cell_type": "code",
   "execution_count": 1,
   "metadata": {
    "collapsed": true
   },
   "outputs": [],
   "source": [
    "%matplotlib inline\n",
    "import matplotlib.pyplot as plt"
   ]
  },
  {
   "cell_type": "code",
   "execution_count": 2,
   "metadata": {
    "collapsed": true
   },
   "outputs": [],
   "source": [
    "import numpy as np\n",
    "import scipy.io as sio"
   ]
  },
  {
   "cell_type": "code",
   "execution_count": 3,
   "metadata": {
    "collapsed": false
   },
   "outputs": [],
   "source": [
    "from bicme.tests.case_normal import CaseNormal\n",
    "from bicme.samplers import MWGSampler\n",
    "from bicme.samplers import RosenthalAdaptiveSampler\n",
    "from bicme.proposals import RWMHProposal\n",
    "from bicme.display import quick_display\n",
    "from bicme.display import DisplayResults"
   ]
  },
  {
   "cell_type": "code",
   "execution_count": 4,
   "metadata": {
    "collapsed": false
   },
   "outputs": [],
   "source": [
    "mat1 = sio.loadmat('../../Tests/Data/NormData.mat')\n",
    "data = np.array(mat1['data']).flatten()\n",
    "np.random.seed(1)\n",
    "cn = CaseNormal(data)"
   ]
  },
  {
   "cell_type": "markdown",
   "metadata": {},
   "source": [
    "##### Run Metropolis_within_Gibbs sampler with scaling during burn-in; proposal-  random-walk Metropoli-Hastings."
   ]
  },
  {
   "cell_type": "code",
   "execution_count": 5,
   "metadata": {
    "collapsed": false,
    "scrolled": false
   },
   "outputs": [
    {
     "name": "stdout",
     "output_type": "stream",
     "text": [
      "Sampler initialised...\n",
      "Iteration 50; Acceptance: 0.580000; Scale factor 1.000000: not changed\n",
      "Iteration 50; Acceptance: 0.420000; Scale factor 1.000000: not changed\n",
      "Iteration 100; Acceptance: 0.520000; Scale factor 1.000000: not changed\n",
      "Iteration 100; Acceptance: 0.420000; Scale factor 1.000000: not changed\n",
      "Iteration 150; Acceptance: 0.580000; Scale factor 1.000000: not changed\n",
      "Iteration 150; Acceptance: 0.600000; Scale factor 1.000000: not changed\n",
      "Iteration 200; Acceptance: 0.580000; Scale factor 1.000000: not changed\n",
      "Iteration 200; Acceptance: 0.460000; Scale factor 1.000000: not changed\n",
      "Iteration 250; Acceptance: 0.620000; Scale factor 1.000000: not changed\n",
      "Iteration 250; Acceptance: 0.360000; Scale factor 1.000000: not changed\n",
      "Iteration 300; Acceptance: 0.480000; Scale factor 1.000000: not changed\n",
      "Iteration 300; Acceptance: 0.580000; Scale factor 1.000000: not changed\n",
      "Iteration 350; Acceptance: 0.480000; Scale factor 1.000000: not changed\n",
      "Iteration 350; Acceptance: 0.380000; Scale factor 1.000000: not changed\n",
      "Iteration 400; Acceptance: 0.500000; Scale factor 1.000000: not changed\n",
      "Iteration 400; Acceptance: 0.500000; Scale factor 1.000000: not changed\n",
      "Iteration 450; Acceptance: 0.500000; Scale factor 1.000000: not changed\n",
      "Iteration 450; Acceptance: 0.440000; Scale factor 1.000000: not changed\n",
      "Iteration 500; Acceptance: 0.520000; Scale factor 1.000000: not changed\n",
      "Iteration 500; Acceptance: 0.560000; Scale factor 1.000000: not changed\n",
      "Iteration 550; Acceptance: 0.460000; Scale factor 1.000000: not changed\n",
      "Iteration 550; Acceptance: 0.320000; Scale factor 1.000000: not changed\n",
      "Iteration 600; Acceptance: 0.440000; Scale factor 1.000000: not changed\n",
      "Iteration 600; Acceptance: 0.480000; Scale factor 1.000000: not changed\n",
      "Iteration 650; Acceptance: 0.540000; Scale factor 1.000000: not changed\n",
      "Iteration 650; Acceptance: 0.420000; Scale factor 1.000000: not changed\n",
      "Iteration 700; Acceptance: 0.500000; Scale factor 1.000000: not changed\n",
      "Iteration 700; Acceptance: 0.520000; Scale factor 1.000000: not changed\n",
      "Iteration 750; Acceptance: 0.600000; Scale factor 1.000000: not changed\n",
      "Iteration 750; Acceptance: 0.320000; Scale factor 1.000000: not changed\n",
      "Iteration 800; Acceptance: 0.500000; Scale factor 1.000000: not changed\n",
      "Iteration 800; Acceptance: 0.420000; Scale factor 1.000000: not changed\n",
      "Iteration 850; Acceptance: 0.500000; Scale factor 1.000000: not changed\n",
      "Iteration 850; Acceptance: 0.440000; Scale factor 1.000000: not changed\n",
      "Iteration 900; Acceptance: 0.660000; Scale factor 1.000000: not changed\n",
      "Iteration 900; Acceptance: 0.420000; Scale factor 1.000000: not changed\n",
      "Iteration 950; Acceptance: 0.500000; Scale factor 1.000000: not changed\n",
      "Iteration 950; Acceptance: 0.420000; Scale factor 1.000000: not changed\n",
      "Iteration 1000; Acceptance: 0.480000; Scale factor 1.000000: not changed\n",
      "Iteration 1000; Acceptance: 0.380000; Scale factor 1.000000: not changed\n",
      "10.0 %\n",
      "Iteration 1050; Acceptance: 0.660000; Scale factor 1.000000: not changed\n",
      "Iteration 1050; Acceptance: 0.240000; Scale factor 0.500000: decreased\n",
      "Iteration 1100; Acceptance: 0.560000; Scale factor 1.000000: not changed\n",
      "Iteration 1100; Acceptance: 0.580000; Scale factor 0.500000: not changed\n",
      "Iteration 1150; Acceptance: 0.560000; Scale factor 1.000000: not changed\n",
      "Iteration 1150; Acceptance: 0.580000; Scale factor 0.500000: not changed\n",
      "Iteration 1200; Acceptance: 0.480000; Scale factor 1.000000: not changed\n",
      "Iteration 1200; Acceptance: 0.640000; Scale factor 0.500000: not changed\n",
      "Iteration 1250; Acceptance: 0.600000; Scale factor 1.000000: not changed\n",
      "Iteration 1250; Acceptance: 0.680000; Scale factor 0.500000: not changed\n",
      "Iteration 1300; Acceptance: 0.440000; Scale factor 1.000000: not changed\n",
      "Iteration 1300; Acceptance: 0.560000; Scale factor 0.500000: not changed\n",
      "Iteration 1350; Acceptance: 0.520000; Scale factor 1.000000: not changed\n",
      "Iteration 1350; Acceptance: 0.600000; Scale factor 0.500000: not changed\n",
      "Iteration 1400; Acceptance: 0.440000; Scale factor 1.000000: not changed\n",
      "Iteration 1400; Acceptance: 0.680000; Scale factor 0.500000: not changed\n",
      "Iteration 1450; Acceptance: 0.580000; Scale factor 1.000000: not changed\n",
      "Iteration 1450; Acceptance: 0.680000; Scale factor 0.500000: not changed\n",
      "Iteration 1500; Acceptance: 0.560000; Scale factor 1.000000: not changed\n",
      "Iteration 1500; Acceptance: 0.600000; Scale factor 0.500000: not changed\n",
      "Iteration 1550; Acceptance: 0.540000; Scale factor 1.000000: not changed\n",
      "Iteration 1550; Acceptance: 0.600000; Scale factor 0.500000: not changed\n",
      "Iteration 1600; Acceptance: 0.500000; Scale factor 1.000000: not changed\n",
      "Iteration 1600; Acceptance: 0.620000; Scale factor 0.500000: not changed\n",
      "Iteration 1650; Acceptance: 0.560000; Scale factor 1.000000: not changed\n",
      "Iteration 1650; Acceptance: 0.660000; Scale factor 0.500000: not changed\n",
      "Iteration 1700; Acceptance: 0.560000; Scale factor 1.000000: not changed\n",
      "Iteration 1700; Acceptance: 0.700000; Scale factor 0.500000: not changed\n",
      "Iteration 1750; Acceptance: 0.500000; Scale factor 1.000000: not changed\n",
      "Iteration 1750; Acceptance: 0.540000; Scale factor 0.500000: not changed\n",
      "Iteration 1800; Acceptance: 0.600000; Scale factor 1.000000: not changed\n",
      "Iteration 1800; Acceptance: 0.580000; Scale factor 0.500000: not changed\n",
      "Iteration 1850; Acceptance: 0.580000; Scale factor 1.000000: not changed\n",
      "Iteration 1850; Acceptance: 0.620000; Scale factor 0.500000: not changed\n",
      "Iteration 1900; Acceptance: 0.520000; Scale factor 1.000000: not changed\n",
      "Iteration 1900; Acceptance: 0.680000; Scale factor 0.500000: not changed\n",
      "Iteration 1950; Acceptance: 0.620000; Scale factor 1.000000: not changed\n",
      "Iteration 1950; Acceptance: 0.700000; Scale factor 0.500000: not changed\n",
      "Iteration 2000; Acceptance: 0.500000; Scale factor 1.000000: not changed\n",
      "Iteration 2000; Acceptance: 0.540000; Scale factor 0.500000: not changed\n",
      "20.0 %\n",
      "Iteration 2050; Acceptance: 0.660000; Scale factor 1.000000: not changed\n",
      "Iteration 2050; Acceptance: 0.620000; Scale factor 0.500000: not changed\n",
      "Iteration 2100; Acceptance: 0.480000; Scale factor 1.000000: not changed\n",
      "Iteration 2100; Acceptance: 0.660000; Scale factor 0.500000: not changed\n",
      "Iteration 2150; Acceptance: 0.640000; Scale factor 1.000000: not changed\n",
      "Iteration 2150; Acceptance: 0.700000; Scale factor 0.500000: not changed\n",
      "Iteration 2200; Acceptance: 0.540000; Scale factor 1.000000: not changed\n",
      "Iteration 2200; Acceptance: 0.740000; Scale factor 0.750000: increased\n",
      "Iteration 2250; Acceptance: 0.620000; Scale factor 1.000000: not changed\n",
      "Iteration 2250; Acceptance: 0.480000; Scale factor 0.750000: not changed\n",
      "Iteration 2300; Acceptance: 0.600000; Scale factor 1.000000: not changed\n",
      "Iteration 2300; Acceptance: 0.500000; Scale factor 0.750000: not changed\n",
      "Iteration 2350; Acceptance: 0.580000; Scale factor 1.000000: not changed\n",
      "Iteration 2350; Acceptance: 0.540000; Scale factor 0.750000: not changed\n",
      "Iteration 2400; Acceptance: 0.580000; Scale factor 1.000000: not changed\n",
      "Iteration 2400; Acceptance: 0.500000; Scale factor 0.750000: not changed\n",
      "Iteration 2450; Acceptance: 0.500000; Scale factor 1.000000: not changed\n",
      "Iteration 2450; Acceptance: 0.700000; Scale factor 0.750000: not changed\n",
      "Iteration 2500; Acceptance: 0.560000; Scale factor 1.000000: not changed\n",
      "Iteration 2500; Acceptance: 0.360000; Scale factor 0.750000: not changed\n",
      "Iteration 2550; Acceptance: 0.540000; Scale factor 1.000000: not changed\n",
      "Iteration 2550; Acceptance: 0.460000; Scale factor 0.750000: not changed\n",
      "Iteration 2600; Acceptance: 0.520000; Scale factor 1.000000: not changed\n",
      "Iteration 2600; Acceptance: 0.520000; Scale factor 0.750000: not changed\n",
      "Iteration 2650; Acceptance: 0.580000; Scale factor 1.000000: not changed\n",
      "Iteration 2650; Acceptance: 0.420000; Scale factor 0.750000: not changed\n",
      "Iteration 2700; Acceptance: 0.420000; Scale factor 1.000000: not changed\n",
      "Iteration 2700; Acceptance: 0.460000; Scale factor 0.750000: not changed\n",
      "Iteration 2750; Acceptance: 0.480000; Scale factor 1.000000: not changed\n",
      "Iteration 2750; Acceptance: 0.540000; Scale factor 0.750000: not changed\n",
      "Iteration 2800; Acceptance: 0.520000; Scale factor 1.000000: not changed\n",
      "Iteration 2800; Acceptance: 0.640000; Scale factor 0.750000: not changed\n",
      "Iteration 2850; Acceptance: 0.500000; Scale factor 1.000000: not changed\n",
      "Iteration 2850; Acceptance: 0.420000; Scale factor 0.750000: not changed\n",
      "Iteration 2900; Acceptance: 0.660000; Scale factor 1.000000: not changed\n",
      "Iteration 2900; Acceptance: 0.580000; Scale factor 0.750000: not changed\n",
      "Iteration 2950; Acceptance: 0.540000; Scale factor 1.000000: not changed\n",
      "Iteration 2950; Acceptance: 0.560000; Scale factor 0.750000: not changed\n",
      "Iteration 3000; Acceptance: 0.500000; Scale factor 1.000000: not changed\n",
      "Iteration 3000; Acceptance: 0.500000; Scale factor 0.750000: not changed\n",
      "30.0 %\n",
      "Iteration 3050; Acceptance: 0.500000; Scale factor 1.000000: not changed\n",
      "Iteration 3050; Acceptance: 0.520000; Scale factor 0.750000: not changed\n",
      "Iteration 3100; Acceptance: 0.520000; Scale factor 1.000000: not changed\n",
      "Iteration 3100; Acceptance: 0.480000; Scale factor 0.750000: not changed\n",
      "Iteration 3150; Acceptance: 0.380000; Scale factor 1.000000: not changed\n",
      "Iteration 3150; Acceptance: 0.540000; Scale factor 0.750000: not changed\n",
      "Iteration 3200; Acceptance: 0.560000; Scale factor 1.000000: not changed\n",
      "Iteration 3200; Acceptance: 0.420000; Scale factor 0.750000: not changed\n",
      "Iteration 3250; Acceptance: 0.460000; Scale factor 1.000000: not changed\n",
      "Iteration 3250; Acceptance: 0.500000; Scale factor 0.750000: not changed\n",
      "Iteration 3300; Acceptance: 0.540000; Scale factor 1.000000: not changed\n",
      "Iteration 3300; Acceptance: 0.560000; Scale factor 0.750000: not changed\n",
      "Iteration 3350; Acceptance: 0.460000; Scale factor 1.000000: not changed\n",
      "Iteration 3350; Acceptance: 0.340000; Scale factor 0.750000: not changed\n",
      "Iteration 3400; Acceptance: 0.560000; Scale factor 1.000000: not changed\n",
      "Iteration 3400; Acceptance: 0.500000; Scale factor 0.750000: not changed\n",
      "Iteration 3450; Acceptance: 0.560000; Scale factor 1.000000: not changed\n",
      "Iteration 3450; Acceptance: 0.400000; Scale factor 0.750000: not changed\n",
      "Iteration 3500; Acceptance: 0.700000; Scale factor 1.000000: not changed\n",
      "Iteration 3500; Acceptance: 0.440000; Scale factor 0.750000: not changed\n",
      "Iteration 3550; Acceptance: 0.540000; Scale factor 1.000000: not changed\n",
      "Iteration 3550; Acceptance: 0.400000; Scale factor 0.750000: not changed\n",
      "Iteration 3600; Acceptance: 0.460000; Scale factor 1.000000: not changed\n",
      "Iteration 3600; Acceptance: 0.440000; Scale factor 0.750000: not changed\n",
      "Iteration 3650; Acceptance: 0.500000; Scale factor 1.000000: not changed\n",
      "Iteration 3650; Acceptance: 0.600000; Scale factor 0.750000: not changed\n",
      "Iteration 3700; Acceptance: 0.540000; Scale factor 1.000000: not changed\n",
      "Iteration 3700; Acceptance: 0.400000; Scale factor 0.750000: not changed\n",
      "Iteration 3750; Acceptance: 0.500000; Scale factor 1.000000: not changed\n",
      "Iteration 3750; Acceptance: 0.440000; Scale factor 0.750000: not changed\n",
      "Iteration 3800; Acceptance: 0.480000; Scale factor 1.000000: not changed\n",
      "Iteration 3800; Acceptance: 0.520000; Scale factor 0.750000: not changed\n",
      "Iteration 3850; Acceptance: 0.500000; Scale factor 1.000000: not changed\n",
      "Iteration 3850; Acceptance: 0.620000; Scale factor 0.750000: not changed\n",
      "Iteration 3900; Acceptance: 0.520000; Scale factor 1.000000: not changed\n",
      "Iteration 3900; Acceptance: 0.380000; Scale factor 0.750000: not changed\n",
      "Iteration 3950; Acceptance: 0.520000; Scale factor 1.000000: not changed\n",
      "Iteration 3950; Acceptance: 0.380000; Scale factor 0.750000: not changed\n",
      "Iteration 4000; Acceptance: 0.620000; Scale factor 1.000000: not changed\n",
      "Iteration 4000; Acceptance: 0.520000; Scale factor 0.750000: not changed\n",
      "40.0 %\n",
      "Iteration 4050; Acceptance: 0.600000; Scale factor 1.000000: not changed\n",
      "Iteration 4050; Acceptance: 0.620000; Scale factor 0.750000: not changed\n",
      "Iteration 4100; Acceptance: 0.440000; Scale factor 1.000000: not changed\n",
      "Iteration 4100; Acceptance: 0.560000; Scale factor 0.750000: not changed\n",
      "Iteration 4150; Acceptance: 0.500000; Scale factor 1.000000: not changed\n",
      "Iteration 4150; Acceptance: 0.520000; Scale factor 0.750000: not changed\n",
      "Iteration 4200; Acceptance: 0.420000; Scale factor 1.000000: not changed\n",
      "Iteration 4200; Acceptance: 0.540000; Scale factor 0.750000: not changed\n",
      "Iteration 4250; Acceptance: 0.520000; Scale factor 1.000000: not changed\n",
      "Iteration 4250; Acceptance: 0.560000; Scale factor 0.750000: not changed\n",
      "Iteration 4300; Acceptance: 0.580000; Scale factor 1.000000: not changed\n",
      "Iteration 4300; Acceptance: 0.480000; Scale factor 0.750000: not changed\n",
      "Iteration 4350; Acceptance: 0.520000; Scale factor 1.000000: not changed\n",
      "Iteration 4350; Acceptance: 0.540000; Scale factor 0.750000: not changed\n",
      "Iteration 4400; Acceptance: 0.500000; Scale factor 1.000000: not changed\n",
      "Iteration 4400; Acceptance: 0.640000; Scale factor 0.750000: not changed\n",
      "Iteration 4450; Acceptance: 0.520000; Scale factor 1.000000: not changed\n",
      "Iteration 4450; Acceptance: 0.540000; Scale factor 0.750000: not changed\n",
      "Iteration 4500; Acceptance: 0.500000; Scale factor 1.000000: not changed\n",
      "Iteration 4500; Acceptance: 0.580000; Scale factor 0.750000: not changed\n",
      "Iteration 4550; Acceptance: 0.600000; Scale factor 1.000000: not changed\n",
      "Iteration 4550; Acceptance: 0.540000; Scale factor 0.750000: not changed\n",
      "Iteration 4600; Acceptance: 0.620000; Scale factor 1.000000: not changed\n",
      "Iteration 4600; Acceptance: 0.580000; Scale factor 0.750000: not changed\n",
      "Iteration 4650; Acceptance: 0.560000; Scale factor 1.000000: not changed\n",
      "Iteration 4650; Acceptance: 0.540000; Scale factor 0.750000: not changed\n",
      "Iteration 4700; Acceptance: 0.560000; Scale factor 1.000000: not changed\n",
      "Iteration 4700; Acceptance: 0.600000; Scale factor 0.750000: not changed\n",
      "Iteration 4750; Acceptance: 0.500000; Scale factor 1.000000: not changed\n",
      "Iteration 4750; Acceptance: 0.440000; Scale factor 0.750000: not changed\n",
      "Iteration 4800; Acceptance: 0.540000; Scale factor 1.000000: not changed\n",
      "Iteration 4800; Acceptance: 0.520000; Scale factor 0.750000: not changed\n",
      "Iteration 4850; Acceptance: 0.580000; Scale factor 1.000000: not changed\n",
      "Iteration 4850; Acceptance: 0.520000; Scale factor 0.750000: not changed\n",
      "Iteration 4900; Acceptance: 0.560000; Scale factor 1.000000: not changed\n",
      "Iteration 4900; Acceptance: 0.540000; Scale factor 0.750000: not changed\n",
      "Iteration 4950; Acceptance: 0.360000; Scale factor 1.000000: not changed\n",
      "Iteration 4950; Acceptance: 0.500000; Scale factor 0.750000: not changed\n",
      "Iteration 5000; Acceptance: 0.480000; Scale factor 1.000000: not changed\n",
      "Iteration 5000; Acceptance: 0.520000; Scale factor 0.750000: not changed\n",
      "50.0 %\n",
      "60.0 %\n",
      "70.0 %\n",
      "80.0 %\n",
      "90.0 %\n",
      "100.0 %\n",
      "Sampling finished...\n"
     ]
    }
   ],
   "source": [
    "X0 = [2, 10]\n",
    "N = 10000 # samples required\n",
    "M = 1000 # notify every #\n",
    "lag = 50 # adjustment lag\n",
    "# Initialise Proposer\n",
    "proposer = RWMHProposal(cn.logPosterior, verbose=True)\n",
    "# Initialise Sampler\n",
    "sampler = MWGSampler(samples_draw=N, notify_every=M, \n",
    "                     burnin_fraction=0.5, burnin_lag=lag,\n",
    "                     model=cn.logPosterior, \n",
    "                     proposal=proposer.propose_component,\n",
    "                     verbose=True)  \n",
    "sampler.acceptance_limits = [0.3, 0.7]\n",
    "sampler.scale = 0.5\n",
    "# Sample\n",
    "np.random.seed(1)\n",
    "S = sampler.sample_component(X0)"
   ]
  },
  {
   "cell_type": "code",
   "execution_count": 6,
   "metadata": {
    "collapsed": false
   },
   "outputs": [
    {
     "name": "stdout",
     "output_type": "stream",
     "text": [
      "MEP index =  2988\n",
      "MEP =  -1118.23291213\n",
      "MEP pars= [-0.2599631   9.65978537]\n"
     ]
    }
   ],
   "source": [
    "print('MEP index = ', S.MEP_index)\n",
    "print('MEP = ', S.MEP)\n",
    "print('MEP pars=', S.MEP_samples)"
   ]
  },
  {
   "cell_type": "code",
   "execution_count": 7,
   "metadata": {
    "collapsed": false
   },
   "outputs": [],
   "source": [
    "#quick_display(S, burnin=N//2)"
   ]
  },
  {
   "cell_type": "code",
   "execution_count": 8,
   "metadata": {
    "collapsed": false
   },
   "outputs": [
    {
     "data": {
      "image/png": "[encoded data removed]",
      "text/plain": [
       "<matplotlib.figure.Figure at 0x7e63f60>"
      ]
     },
     "metadata": {},
     "output_type": "display_data"
    }
   ],
   "source": [
    "display = DisplayResults(S, burnin=S.N//2, names=['mu', 'sigma'])\n",
    "#display.show_labels = False\n",
    "display.chains()"
   ]
  },
  {
   "cell_type": "code",
   "execution_count": 9,
   "metadata": {
    "collapsed": false
   },
   "outputs": [],
   "source": [
    "#display.distributions()"
   ]
  },
  {
   "cell_type": "code",
   "execution_count": 10,
   "metadata": {
    "collapsed": false
   },
   "outputs": [
    {
     "data": {
      "image/png": "[encoded data removed]",
      "text/plain": [
       "<matplotlib.figure.Figure at 0x7a3fda0>"
      ]
     },
     "metadata": {},
     "output_type": "display_data"
    }
   ],
   "source": [
    "display.corner()"
   ]
  },
  {
   "cell_type": "code",
   "execution_count": 11,
   "metadata": {
    "collapsed": false
   },
   "outputs": [
    {
     "data": {
      "image/png": "[encoded data removed]",
      "text/plain": [
       "<matplotlib.figure.Figure at 0x81392b0>"
      ]
     },
     "metadata": {},
     "output_type": "display_data"
    }
   ],
   "source": [
    "display.autocorrelations()"
   ]
  },
  {
   "cell_type": "code",
   "execution_count": 12,
   "metadata": {
    "collapsed": false
   },
   "outputs": [],
   "source": [
    "#display.normalised = True\n",
    "#display.chains()"
   ]
  },
  {
   "cell_type": "code",
   "execution_count": 13,
   "metadata": {
    "collapsed": false
   },
   "outputs": [],
   "source": [
    "#display.distributions()"
   ]
  },
  {
   "cell_type": "code",
   "execution_count": null,
   "metadata": {
    "collapsed": true
   },
   "outputs": [],
   "source": []
  }
 ],
 "metadata": {
  "anaconda-cloud": {},
  "kernelspec": {
   "display_name": "Python [Root]",
   "language": "python",
   "name": "Python [Root]"
  },
  "language_info": {
   "codemirror_mode": {
    "name": "ipython",
    "version": 3
   },
   "file_extension": ".py",
   "mimetype": "text/x-python",
   "name": "python",
   "nbconvert_exporter": "python",
   "pygments_lexer": "ipython3",
   "version": "3.5.1"
  }
 },
 "nbformat": 4,
 "nbformat_minor": 0
}
